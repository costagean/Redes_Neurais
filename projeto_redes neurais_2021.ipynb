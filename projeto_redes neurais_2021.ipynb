{
  "nbformat": 4,
  "nbformat_minor": 0,
  "metadata": {
    "colab": {
      "name": "Untitled6.ipynb",
      "provenance": [],
      "collapsed_sections": [],
      "authorship_tag": "ABX9TyNqvMGN/evrOJxwppQtUcgi",
      "include_colab_link": true
    },
    "kernelspec": {
      "name": "python3",
      "display_name": "Python 3"
    },
    "language_info": {
      "name": "python"
    }
  },
  "cells": [
    {
      "cell_type": "markdown",
      "metadata": {
        "id": "view-in-github",
        "colab_type": "text"
      },
      "source": [
        "<a href=\"https://colab.research.google.com/github/costagean/Redes_Neurais/blob/main/projeto_redes%20neurais_2021.ipynb\" target=\"_parent\"><img src=\"https://colab.research.google.com/assets/colab-badge.svg\" alt=\"Open In Colab\"/></a>"
      ]
    },
    {
      "cell_type": "code",
      "metadata": {
        "id": "Un3M_PDuRb7Z"
      },
      "source": [
        "# bibliotecas que serão utilizadas\n",
        "import numpy as np\n",
        "import pandas as pd\n",
        "import matplotlib.pyplot as plt\n",
        "from sklearn.neural_network import MLPRegressor\n",
        "from sklearn.model_selection import train_test_split\n",
        "from sklearn.metrics import mean_squared_error\n",
        "from sklearn import preprocessing\n",
        "from sklearn.metrics import r2_score \n",
        "from sklearn.externals import joblib\n",
        "from google.colab import files\n"
      ],
      "execution_count": 55,
      "outputs": []
    },
    {
      "cell_type": "code",
      "metadata": {
        "id": "tTtMb9nHVEpj"
      },
      "source": [
        "# para a originar um gráfico no browser\n",
        "%matplotlib inline"
      ],
      "execution_count": 56,
      "outputs": []
    },
    {
      "cell_type": "code",
      "metadata": {
        "colab": {
          "base_uri": "https://localhost:8080/"
        },
        "id": "i-fUC3uRVVpM",
        "outputId": "87d60e8d-3397-444e-c228-02b368dd0f7e"
      },
      "source": [
        "# Para captação e leitura dos dados\n",
        "!git clone https://github.com/costagean/Redes_Neurais\n",
        "%cd Redes_Neurais"
      ],
      "execution_count": 57,
      "outputs": [
        {
          "output_type": "stream",
          "text": [
            "Cloning into 'Redes_Neurais'...\n",
            "remote: Enumerating objects: 12, done.\u001b[K\n",
            "remote: Counting objects: 100% (12/12), done.\u001b[K\n",
            "remote: Compressing objects: 100% (12/12), done.\u001b[K\n",
            "remote: Total 12 (delta 3), reused 0 (delta 0), pack-reused 0\u001b[K\n",
            "Unpacking objects: 100% (12/12), done.\n",
            "/content/Redes_Neurais/Redes_Neurais/Redes_Neurais/Redes_Neurais/Redes_Neurais/Redes_Neurais/Redes_Neurais/Redes_Neurais/Redes_Neurais/Redes_Neurais/Redes_Neurais/Redes_Neurais\n"
          ],
          "name": "stdout"
        }
      ]
    },
    {
      "cell_type": "code",
      "metadata": {
        "colab": {
          "base_uri": "https://localhost:8080/"
        },
        "id": "uYkFVg_NVthN",
        "outputId": "2b1d48ce-4ac1-468b-e388-aca7e39c2bfd"
      },
      "source": [
        "# Para leitura dos dados\n",
        "df=pd.read_excel(\"dados para projeto de rede neural.xlsx\")\n",
        "print(df.head())\n"
      ],
      "execution_count": 58,
      "outputs": [
        {
          "output_type": "stream",
          "text": [
            "   Unnamed: 0                           Unnamed: 1  ... Unnamed: 7 Unnamed: 8\n",
            "0         NaN  Dados para confecção da rede neural  ...        NaN        NaN\n",
            "1         NaN                             Amostras  ...        EDF         EY\n",
            "2         NaN                                    B  ...          -          -\n",
            "3         NaN                                    1  ...    1.01565    62.2799\n",
            "4         NaN                                    2  ...   0.969925    59.5825\n",
            "\n",
            "[5 rows x 9 columns]\n"
          ],
          "name": "stdout"
        }
      ]
    },
    {
      "cell_type": "code",
      "metadata": {
        "id": "R_BYsREMbEFr"
      },
      "source": [
        "filename = 'model_ANN.pkl'\n",
        "model = joblib.load(filename)\n"
      ],
      "execution_count": 59,
      "outputs": []
    },
    {
      "cell_type": "code",
      "metadata": {
        "colab": {
          "base_uri": "https://localhost:8080/"
        },
        "id": "jVCw8b6WbWmD",
        "outputId": "aadb9833-3c17-47b2-d5a9-df6060c93001"
      },
      "source": [
        "# separando as colunas de interesse\n",
        "Index=[2,3,4,5,6,7,8]\n",
        "X=df.iloc[:,Index].copy()\n",
        "print(X.head())"
      ],
      "execution_count": 60,
      "outputs": [
        {
          "output_type": "stream",
          "text": [
            "  Unnamed: 2 Unnamed: 3 Unnamed: 4  ...   Unnamed: 6 Unnamed: 7 Unnamed: 8\n",
            "0        NaN        NaN        NaN  ...          NaN        NaN        NaN\n",
            "1       ղ(%)     CZ (%)     MV (%)  ...  PCS (MJ/kg)        EDF         EY\n",
            "2          -       3.25      75.33  ...      19.2927          -          -\n",
            "3      61.32       7.75      76.88  ...      19.5947    1.01565    62.2799\n",
            "4      61.43       0.14      83.95  ...      18.7125   0.969925    59.5825\n",
            "\n",
            "[5 rows x 7 columns]\n"
          ],
          "name": "stdout"
        }
      ]
    },
    {
      "cell_type": "code",
      "metadata": {
        "id": "kC9tuyqJb77J"
      },
      "source": [
        ""
      ],
      "execution_count": 60,
      "outputs": []
    }
  ]
}