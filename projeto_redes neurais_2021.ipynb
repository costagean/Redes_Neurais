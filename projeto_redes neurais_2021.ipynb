{
  "nbformat": 4,
  "nbformat_minor": 0,
  "metadata": {
    "colab": {
      "name": "Untitled6.ipynb",
      "provenance": [],
      "collapsed_sections": [],
      "authorship_tag": "ABX9TyNz0em4S++XuYQwFfH/rXDB",
      "include_colab_link": true
    },
    "kernelspec": {
      "name": "python3",
      "display_name": "Python 3"
    },
    "language_info": {
      "name": "python"
    }
  },
  "cells": [
    {
      "cell_type": "markdown",
      "metadata": {
        "id": "view-in-github",
        "colab_type": "text"
      },
      "source": [
        "<a href=\"https://colab.research.google.com/github/costagean/Redes_Neurais/blob/main/projeto_redes%20neurais_2021.ipynb\" target=\"_parent\"><img src=\"https://colab.research.google.com/assets/colab-badge.svg\" alt=\"Open In Colab\"/></a>"
      ]
    },
    {
      "cell_type": "code",
      "metadata": {
        "id": "Un3M_PDuRb7Z"
      },
      "source": [
        "# bibliotecas que serão utilizadas\n",
        "import numpy as np\n",
        "import pandas as pd\n",
        "import matplotlib.pyplot as plt\n",
        "from sklearn.neural_network import MLPRegressor\n",
        "from sklearn.model_selection import train_test_split\n",
        "from sklearn.metrics import mean_squared_error\n",
        "from sklearn import preprocessing\n",
        "from sklearn.metrics import r2_score \n",
        "from sklearn.externals import joblib\n",
        "from google.colab import files\n"
      ],
      "execution_count": 44,
      "outputs": []
    },
    {
      "cell_type": "code",
      "metadata": {
        "id": "tTtMb9nHVEpj"
      },
      "source": [
        "# para a originar um gráfico no browser\n",
        "%matplotlib inline"
      ],
      "execution_count": 45,
      "outputs": []
    },
    {
      "cell_type": "code",
      "metadata": {
        "colab": {
          "base_uri": "https://localhost:8080/"
        },
        "id": "i-fUC3uRVVpM",
        "outputId": "1d69601f-e151-451b-def2-8a621c1f6856"
      },
      "source": [
        "# Para captação e leitura dos dados\n",
        "!git clone https://github.com/costagean/Redes_Neurais\n",
        "%cd Redes_Neurais"
      ],
      "execution_count": 46,
      "outputs": [
        {
          "output_type": "stream",
          "text": [
            "Cloning into 'Redes_Neurais'...\n",
            "remote: Enumerating objects: 17, done.\u001b[K\n",
            "remote: Counting objects:   5% (1/17)\u001b[K\rremote: Counting objects:  11% (2/17)\u001b[K\rremote: Counting objects:  17% (3/17)\u001b[K\rremote: Counting objects:  23% (4/17)\u001b[K\rremote: Counting objects:  29% (5/17)\u001b[K\rremote: Counting objects:  35% (6/17)\u001b[K\rremote: Counting objects:  41% (7/17)\u001b[K\rremote: Counting objects:  47% (8/17)\u001b[K\rremote: Counting objects:  52% (9/17)\u001b[K\rremote: Counting objects:  58% (10/17)\u001b[K\rremote: Counting objects:  64% (11/17)\u001b[K\rremote: Counting objects:  70% (12/17)\u001b[K\rremote: Counting objects:  76% (13/17)\u001b[K\rremote: Counting objects:  82% (14/17)\u001b[K\rremote: Counting objects:  88% (15/17)\u001b[K\rremote: Counting objects:  94% (16/17)\u001b[K\rremote: Counting objects: 100% (17/17)\u001b[K\rremote: Counting objects: 100% (17/17), done.\u001b[K\n",
            "remote: Compressing objects:   5% (1/17)\u001b[K\rremote: Compressing objects:  11% (2/17)\u001b[K\rremote: Compressing objects:  17% (3/17)\u001b[K\rremote: Compressing objects:  23% (4/17)\u001b[K\rremote: Compressing objects:  29% (5/17)\u001b[K\rremote: Compressing objects:  35% (6/17)\u001b[K\rremote: Compressing objects:  41% (7/17)\u001b[K\rremote: Compressing objects:  47% (8/17)\u001b[K\rremote: Compressing objects:  52% (9/17)\u001b[K\rremote: Compressing objects:  58% (10/17)\u001b[K\rremote: Compressing objects:  64% (11/17)\u001b[K\rremote: Compressing objects:  70% (12/17)\u001b[K\rremote: Compressing objects:  76% (13/17)\u001b[K\rremote: Compressing objects:  82% (14/17)\u001b[K\rremote: Compressing objects:  88% (15/17)\u001b[K\rremote: Compressing objects:  94% (16/17)\u001b[K\rremote: Compressing objects: 100% (17/17)\u001b[K\rremote: Compressing objects: 100% (17/17), done.\u001b[K\n",
            "remote: Total 17 (delta 6), reused 0 (delta 0), pack-reused 0\u001b[K\n",
            "Unpacking objects:   5% (1/17)   \rUnpacking objects:  11% (2/17)   \rUnpacking objects:  17% (3/17)   \rUnpacking objects:  23% (4/17)   \rUnpacking objects:  29% (5/17)   \rUnpacking objects:  35% (6/17)   \rUnpacking objects:  41% (7/17)   \rUnpacking objects:  47% (8/17)   \rUnpacking objects:  52% (9/17)   \rUnpacking objects:  58% (10/17)   \rUnpacking objects:  64% (11/17)   \rUnpacking objects:  70% (12/17)   \rUnpacking objects:  76% (13/17)   \rUnpacking objects:  82% (14/17)   \rUnpacking objects:  88% (15/17)   \rUnpacking objects:  94% (16/17)   \rUnpacking objects: 100% (17/17)   \rUnpacking objects: 100% (17/17), done.\n",
            "/content/Redes_Neurais/Redes_Neurais/Redes_Neurais/Redes_Neurais/Redes_Neurais/Redes_Neurais/Redes_Neurais/Redes_Neurais/Redes_Neurais/Redes_Neurais\n"
          ],
          "name": "stdout"
        }
      ]
    },
    {
      "cell_type": "code",
      "metadata": {
        "colab": {
          "base_uri": "https://localhost:8080/"
        },
        "id": "uYkFVg_NVthN",
        "outputId": "6cf4e515-2809-477d-dc15-aed493402c98"
      },
      "source": [
        "# Para leitura dos dados\n",
        "df=pd.read_excel(\"dados para projeto de rede neural.xlsx\")\n",
        "df=df.drop(0)\n",
        "print(df.head())"
      ],
      "execution_count": 47,
      "outputs": [
        {
          "output_type": "stream",
          "text": [
            "   Unnamed: 0 Unnamed: 1 Unnamed: 2  ...   Unnamed: 6 Unnamed: 7 Unnamed: 8\n",
            "1         NaN   Amostras       ղ(%)  ...  PCS (MJ/kg)        EDF         EY\n",
            "2         NaN          B          -  ...      19.2927          -          -\n",
            "3         NaN          1      61.32  ...      19.5947    1.01565    62.2799\n",
            "4         NaN          2      61.43  ...      18.7125   0.969925    59.5825\n",
            "5         NaN          3      47.14  ...      19.0586   0.987863    46.5679\n",
            "\n",
            "[5 rows x 9 columns]\n"
          ],
          "name": "stdout"
        }
      ]
    },
    {
      "cell_type": "code",
      "metadata": {
        "id": "R_BYsREMbEFr"
      },
      "source": [
        "filename = 'model_ANN.pkl'\n",
        "model = joblib.load(filename)\n"
      ],
      "execution_count": 48,
      "outputs": []
    },
    {
      "cell_type": "code",
      "metadata": {
        "colab": {
          "base_uri": "https://localhost:8080/"
        },
        "id": "jVCw8b6WbWmD",
        "outputId": "142e1d9f-970f-408c-daf6-00349ac9756e"
      },
      "source": [
        "# separando as colunas de interesse\n",
        "Index=[2,3,4,5,6,7,8]\n",
        "X=df.iloc[:,Index].copy()\n",
        "print(X.head())"
      ],
      "execution_count": 49,
      "outputs": [
        {
          "output_type": "stream",
          "text": [
            "  Unnamed: 2 Unnamed: 3 Unnamed: 4  ...   Unnamed: 6 Unnamed: 7 Unnamed: 8\n",
            "1       ղ(%)     CZ (%)     MV (%)  ...  PCS (MJ/kg)        EDF         EY\n",
            "2          -       3.25      75.33  ...      19.2927          -          -\n",
            "3      61.32       7.75      76.88  ...      19.5947    1.01565    62.2799\n",
            "4      61.43       0.14      83.95  ...      18.7125   0.969925    59.5825\n",
            "5      47.14       1.48      79.75  ...      19.0586   0.987863    46.5679\n",
            "\n",
            "[5 rows x 7 columns]\n"
          ],
          "name": "stdout"
        }
      ]
    }
  ]
}