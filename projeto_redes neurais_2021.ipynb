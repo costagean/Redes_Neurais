{
  "nbformat": 4,
  "nbformat_minor": 0,
  "metadata": {
    "colab": {
      "name": "Untitled6.ipynb",
      "provenance": [],
      "collapsed_sections": [],
      "authorship_tag": "ABX9TyPpukT4Nky3qNlypfCZAHPQ",
      "include_colab_link": true
    },
    "kernelspec": {
      "name": "python3",
      "display_name": "Python 3"
    },
    "language_info": {
      "name": "python"
    }
  },
  "cells": [
    {
      "cell_type": "markdown",
      "metadata": {
        "id": "view-in-github",
        "colab_type": "text"
      },
      "source": [
        "<a href=\"https://colab.research.google.com/github/costagean/Redes_Neurais/blob/main/projeto_redes%20neurais_2021.ipynb\" target=\"_parent\"><img src=\"https://colab.research.google.com/assets/colab-badge.svg\" alt=\"Open In Colab\"/></a>"
      ]
    },
    {
      "cell_type": "code",
      "metadata": {
        "id": "Un3M_PDuRb7Z"
      },
      "source": [
        "# bibliotecas que serão utilizadas\n",
        "import numpy as np\n",
        "import pandas as pd\n",
        "import matplotlib.pyplot as plt\n",
        "from sklearn.neural_network import MLPRegressor\n",
        "from sklearn.model_selection import train_test_split\n",
        "from sklearn.metrics import mean_squared_error\n",
        "from sklearn import preprocessing\n",
        "from sklearn.metrics import r2_score \n",
        "from sklearn.externals import joblib\n",
        "from google.colab import files\n"
      ],
      "execution_count": 150,
      "outputs": []
    },
    {
      "cell_type": "code",
      "metadata": {
        "id": "tTtMb9nHVEpj"
      },
      "source": [
        "# para a originar um gráfico no browser\n",
        "%matplotlib inline"
      ],
      "execution_count": 151,
      "outputs": []
    },
    {
      "cell_type": "code",
      "metadata": {
        "colab": {
          "base_uri": "https://localhost:8080/"
        },
        "id": "i-fUC3uRVVpM",
        "outputId": "876cf633-61d0-45f6-c4fe-1963597e3d11"
      },
      "source": [
        "# Para captação e leitura dos dados\n",
        "!git clone https://github.com/costagean/Redes_Neurais\n",
        "%cd Redes_Neurais"
      ],
      "execution_count": 152,
      "outputs": [
        {
          "output_type": "stream",
          "text": [
            "Cloning into 'Redes_Neurais'...\n",
            "remote: Enumerating objects: 38, done.\u001b[K\n",
            "remote: Counting objects: 100% (38/38), done.\u001b[K\n",
            "remote: Compressing objects: 100% (38/38), done.\u001b[K\n",
            "remote: Total 38 (delta 17), reused 0 (delta 0), pack-reused 0\u001b[K\n",
            "Unpacking objects: 100% (38/38), done.\n",
            "/content/Redes_Neurais/Redes_Neurais/Redes_Neurais/Redes_Neurais/Redes_Neurais/Redes_Neurais/Redes_Neurais/Redes_Neurais/Redes_Neurais/Redes_Neurais/Redes_Neurais/Redes_Neurais\n"
          ],
          "name": "stdout"
        }
      ]
    },
    {
      "cell_type": "code",
      "metadata": {
        "colab": {
          "base_uri": "https://localhost:8080/"
        },
        "id": "uYkFVg_NVthN",
        "outputId": "90791887-2765-4b9c-b1e0-bc9c12d43da3"
      },
      "source": [
        "# Para leitura dos dados\n",
        "df=pd.read_excel(\"dados para projeto de rede neural3.xlsx\")\n",
        "print(df.head())"
      ],
      "execution_count": 153,
      "outputs": [
        {
          "output_type": "stream",
          "text": [
            "  Amostras   ղ(%)  CZ (%)  MV (%)  CF (%)  PCS (MJ/kg)       EDF         EY\n",
            "0        B   0.00    3.25   75.33   21.42    19.292709  0.000000   0.000000\n",
            "1        1  61.32    7.75   76.88   21.69    19.594726  1.047147  64.211052\n",
            "2        2  61.43    0.14   83.95   15.91    18.712489  1.000000  61.430000\n",
            "3        3  47.14    1.48   79.75   18.77    19.058553  1.018494  48.011795\n",
            "4        4  54.26    1.10   78.90   20.00    19.363930  1.034813  56.148962\n"
          ],
          "name": "stdout"
        }
      ]
    },
    {
      "cell_type": "code",
      "metadata": {
        "id": "R_BYsREMbEFr"
      },
      "source": [
        "filename = 'model_ANN.pkl'\n",
        "model = joblib.load(filename)\n"
      ],
      "execution_count": 154,
      "outputs": []
    },
    {
      "cell_type": "code",
      "metadata": {
        "colab": {
          "base_uri": "https://localhost:8080/"
        },
        "id": "jVCw8b6WbWmD",
        "outputId": "1ecaeb06-d4e3-4eb8-9db9-43ea872a302b"
      },
      "source": [
        "# separando as colunas de interesse\n",
        "Index=[1,2,3,4,5,6,7]\n",
        "X=df.iloc[:,Index].copy()\n",
        "print(X.head())"
      ],
      "execution_count": 155,
      "outputs": [
        {
          "output_type": "stream",
          "text": [
            "    ղ(%)  CZ (%)  MV (%)  CF (%)  PCS (MJ/kg)       EDF         EY\n",
            "0   0.00    3.25   75.33   21.42    19.292709  0.000000   0.000000\n",
            "1  61.32    7.75   76.88   21.69    19.594726  1.047147  64.211052\n",
            "2  61.43    0.14   83.95   15.91    18.712489  1.000000  61.430000\n",
            "3  47.14    1.48   79.75   18.77    19.058553  1.018494  48.011795\n",
            "4  54.26    1.10   78.90   20.00    19.363930  1.034813  56.148962\n"
          ],
          "name": "stdout"
        }
      ]
    },
    {
      "cell_type": "code",
      "metadata": {
        "id": "I5Prs-7Ljc_8",
        "colab": {
          "base_uri": "https://localhost:8080/",
          "height": 173
        },
        "outputId": "fd4c272a-4304-4a53-ce0f-c6facd0a9650"
      },
      "source": [
        "\n",
        "df.head(4)"
      ],
      "execution_count": 156,
      "outputs": [
        {
          "output_type": "execute_result",
          "data": {
            "text/html": [
              "<div>\n",
              "<style scoped>\n",
              "    .dataframe tbody tr th:only-of-type {\n",
              "        vertical-align: middle;\n",
              "    }\n",
              "\n",
              "    .dataframe tbody tr th {\n",
              "        vertical-align: top;\n",
              "    }\n",
              "\n",
              "    .dataframe thead th {\n",
              "        text-align: right;\n",
              "    }\n",
              "</style>\n",
              "<table border=\"1\" class=\"dataframe\">\n",
              "  <thead>\n",
              "    <tr style=\"text-align: right;\">\n",
              "      <th></th>\n",
              "      <th>Amostras</th>\n",
              "      <th>ղ(%)</th>\n",
              "      <th>CZ (%)</th>\n",
              "      <th>MV (%)</th>\n",
              "      <th>CF (%)</th>\n",
              "      <th>PCS (MJ/kg)</th>\n",
              "      <th>EDF</th>\n",
              "      <th>EY</th>\n",
              "    </tr>\n",
              "  </thead>\n",
              "  <tbody>\n",
              "    <tr>\n",
              "      <th>0</th>\n",
              "      <td>B</td>\n",
              "      <td>0.00</td>\n",
              "      <td>3.25</td>\n",
              "      <td>75.33</td>\n",
              "      <td>21.42</td>\n",
              "      <td>19.292709</td>\n",
              "      <td>0.000000</td>\n",
              "      <td>0.000000</td>\n",
              "    </tr>\n",
              "    <tr>\n",
              "      <th>1</th>\n",
              "      <td>1</td>\n",
              "      <td>61.32</td>\n",
              "      <td>7.75</td>\n",
              "      <td>76.88</td>\n",
              "      <td>21.69</td>\n",
              "      <td>19.594726</td>\n",
              "      <td>1.047147</td>\n",
              "      <td>64.211052</td>\n",
              "    </tr>\n",
              "    <tr>\n",
              "      <th>2</th>\n",
              "      <td>2</td>\n",
              "      <td>61.43</td>\n",
              "      <td>0.14</td>\n",
              "      <td>83.95</td>\n",
              "      <td>15.91</td>\n",
              "      <td>18.712489</td>\n",
              "      <td>1.000000</td>\n",
              "      <td>61.430000</td>\n",
              "    </tr>\n",
              "    <tr>\n",
              "      <th>3</th>\n",
              "      <td>3</td>\n",
              "      <td>47.14</td>\n",
              "      <td>1.48</td>\n",
              "      <td>79.75</td>\n",
              "      <td>18.77</td>\n",
              "      <td>19.058553</td>\n",
              "      <td>1.018494</td>\n",
              "      <td>48.011795</td>\n",
              "    </tr>\n",
              "  </tbody>\n",
              "</table>\n",
              "</div>"
            ],
            "text/plain": [
              "  Amostras   ղ(%)  CZ (%)  MV (%)  CF (%)  PCS (MJ/kg)       EDF         EY\n",
              "0        B   0.00    3.25   75.33   21.42    19.292709  0.000000   0.000000\n",
              "1        1  61.32    7.75   76.88   21.69    19.594726  1.047147  64.211052\n",
              "2        2  61.43    0.14   83.95   15.91    18.712489  1.000000  61.430000\n",
              "3        3  47.14    1.48   79.75   18.77    19.058553  1.018494  48.011795"
            ]
          },
          "metadata": {
            "tags": []
          },
          "execution_count": 156
        }
      ]
    },
    {
      "cell_type": "code",
      "metadata": {
        "id": "RWOjT1xGjpNR",
        "colab": {
          "base_uri": "https://localhost:8080/",
          "height": 173
        },
        "outputId": "e5d9926e-c9da-46f5-b608-65c0f536b32c"
      },
      "source": [
        "df.tail(4)\n"
      ],
      "execution_count": 157,
      "outputs": [
        {
          "output_type": "execute_result",
          "data": {
            "text/html": [
              "<div>\n",
              "<style scoped>\n",
              "    .dataframe tbody tr th:only-of-type {\n",
              "        vertical-align: middle;\n",
              "    }\n",
              "\n",
              "    .dataframe tbody tr th {\n",
              "        vertical-align: top;\n",
              "    }\n",
              "\n",
              "    .dataframe thead th {\n",
              "        text-align: right;\n",
              "    }\n",
              "</style>\n",
              "<table border=\"1\" class=\"dataframe\">\n",
              "  <thead>\n",
              "    <tr style=\"text-align: right;\">\n",
              "      <th></th>\n",
              "      <th>Amostras</th>\n",
              "      <th>ղ(%)</th>\n",
              "      <th>CZ (%)</th>\n",
              "      <th>MV (%)</th>\n",
              "      <th>CF (%)</th>\n",
              "      <th>PCS (MJ/kg)</th>\n",
              "      <th>EDF</th>\n",
              "      <th>EY</th>\n",
              "    </tr>\n",
              "  </thead>\n",
              "  <tbody>\n",
              "    <tr>\n",
              "      <th>53</th>\n",
              "      <td>53</td>\n",
              "      <td>24.430</td>\n",
              "      <td>38.100</td>\n",
              "      <td>47.905</td>\n",
              "      <td>23.806684</td>\n",
              "      <td>15.589253</td>\n",
              "      <td>1.098941</td>\n",
              "      <td>55.985558</td>\n",
              "    </tr>\n",
              "    <tr>\n",
              "      <th>54</th>\n",
              "      <td>54</td>\n",
              "      <td>26.945</td>\n",
              "      <td>36.385</td>\n",
              "      <td>51.665</td>\n",
              "      <td>22.272240</td>\n",
              "      <td>15.646235</td>\n",
              "      <td>1.098941</td>\n",
              "      <td>55.985558</td>\n",
              "    </tr>\n",
              "    <tr>\n",
              "      <th>55</th>\n",
              "      <td>55</td>\n",
              "      <td>24.320</td>\n",
              "      <td>36.275</td>\n",
              "      <td>49.840</td>\n",
              "      <td>24.207240</td>\n",
              "      <td>16.046791</td>\n",
              "      <td>1.120347</td>\n",
              "      <td>54.135167</td>\n",
              "    </tr>\n",
              "    <tr>\n",
              "      <th>56</th>\n",
              "      <td>56</td>\n",
              "      <td>25.060</td>\n",
              "      <td>33.270</td>\n",
              "      <td>52.105</td>\n",
              "      <td>24.533893</td>\n",
              "      <td>16.538848</td>\n",
              "      <td>1.137803</td>\n",
              "      <td>55.422403</td>\n",
              "    </tr>\n",
              "  </tbody>\n",
              "</table>\n",
              "</div>"
            ],
            "text/plain": [
              "   Amostras    ղ(%)  CZ (%)  ...  PCS (MJ/kg)       EDF         EY\n",
              "53       53  24.430  38.100  ...    15.589253  1.098941  55.985558\n",
              "54       54  26.945  36.385  ...    15.646235  1.098941  55.985558\n",
              "55       55  24.320  36.275  ...    16.046791  1.120347  54.135167\n",
              "56       56  25.060  33.270  ...    16.538848  1.137803  55.422403\n",
              "\n",
              "[4 rows x 8 columns]"
            ]
          },
          "metadata": {
            "tags": []
          },
          "execution_count": 157
        }
      ]
    },
    {
      "cell_type": "code",
      "metadata": {
        "id": "w7UvgWLhfhC1"
      },
      "source": [
        "Index=['EY']\n",
        "y =df[Index]"
      ],
      "execution_count": 158,
      "outputs": []
    },
    {
      "cell_type": "code",
      "metadata": {
        "id": "TMl5CAjaanhN"
      },
      "source": [
        "X_train, X_test, y_train, y_test = train_test_split(X,y,test_size=0.10, shuffle=True, random_state=3)"
      ],
      "execution_count": 159,
      "outputs": []
    },
    {
      "cell_type": "code",
      "metadata": {
        "id": "XHdbWHHkfqyJ"
      },
      "source": [
        "scaler_X = preprocessing.MinMaxScaler((-1,1)).fit(X)\n",
        "scaler_Y = preprocessing.MinMaxScaler((-1,1)).fit(y)"
      ],
      "execution_count": 160,
      "outputs": []
    },
    {
      "cell_type": "code",
      "metadata": {
        "id": "qF13PFDzbAE1"
      },
      "source": [
        "X_train = scaler_X.transform(X_train)\n",
        "X_test = scaler_X.transform(X_test)\n",
        "y_train = scaler_Y.transform(y_train)\n",
        "y_test = scaler_Y.transform(y_test)"
      ],
      "execution_count": 161,
      "outputs": []
    },
    {
      "cell_type": "code",
      "metadata": {
        "id": "WWASXrYBbD7C"
      },
      "source": [
        "# Definir a rede neural\n",
        "N_Hidden=20\n",
        "model = MLPRegressor(solver='lbfgs',activation='tanh',alpha=1e-5,hidden_layer_sizes=(N_Hidden), max_iter=1500,random_state=11 )"
      ],
      "execution_count": 162,
      "outputs": []
    },
    {
      "cell_type": "code",
      "metadata": {
        "id": "4LidKjcebMtj",
        "outputId": "70fdfae0-8c5c-45f0-c354-4060e807de1e",
        "colab": {
          "base_uri": "https://localhost:8080/"
        }
      },
      "source": [
        "#btreinar a rede neural\n",
        "model.fit(X_train, y_train)"
      ],
      "execution_count": 163,
      "outputs": [
        {
          "output_type": "stream",
          "text": [
            "/usr/local/lib/python3.7/dist-packages/sklearn/neural_network/_multilayer_perceptron.py:1342: DataConversionWarning: A column-vector y was passed when a 1d array was expected. Please change the shape of y to (n_samples, ), for example using ravel().\n",
            "  y = column_or_1d(y, warn=True)\n"
          ],
          "name": "stderr"
        },
        {
          "output_type": "execute_result",
          "data": {
            "text/plain": [
              "MLPRegressor(activation='tanh', alpha=1e-05, batch_size='auto', beta_1=0.9,\n",
              "             beta_2=0.999, early_stopping=False, epsilon=1e-08,\n",
              "             hidden_layer_sizes=20, learning_rate='constant',\n",
              "             learning_rate_init=0.001, max_fun=15000, max_iter=1500,\n",
              "             momentum=0.9, n_iter_no_change=10, nesterovs_momentum=True,\n",
              "             power_t=0.5, random_state=11, shuffle=True, solver='lbfgs',\n",
              "             tol=0.0001, validation_fraction=0.1, verbose=False,\n",
              "             warm_start=False)"
            ]
          },
          "metadata": {
            "tags": []
          },
          "execution_count": 163
        }
      ]
    },
    {
      "cell_type": "code",
      "metadata": {
        "id": "yFHc6pNUcu3g"
      },
      "source": [
        "# treinar calculos de treino e teste\n",
        "y_calc_train=model.predict(X_train)\n",
        "y_calc_test=model.predict(X_test)"
      ],
      "execution_count": 164,
      "outputs": []
    },
    {
      "cell_type": "code",
      "metadata": {
        "id": "b1i1nAx9ftFI"
      },
      "source": [
        "# transforma dos dados calculados na forma original (nao normatizado)\n",
        "y_obs_train=scaler_Y.inverse_transform(np.array(y_train).reshape(-1,1))\n",
        "y_obs_test=scaler_Y.inverse_transform(np.array(y_test).reshape(-1,1))\n",
        "y_calc_train=scaler_Y.inverse_transform(y_calc_train.reshape(-1,1))\n",
        "y_calc_test=scaler_Y.inverse_transform(y_calc_test.reshape(-1,1))"
      ],
      "execution_count": 165,
      "outputs": []
    },
    {
      "cell_type": "code",
      "metadata": {
        "id": "8tUv-vOLgLyd",
        "outputId": "19c520bf-0581-4676-a73b-40f8be4282fc",
        "colab": {
          "base_uri": "https://localhost:8080/"
        }
      },
      "source": [
        "print(pd.DataFrame({'test calc':y_calc_test.ravel(),'test true':y_obs_test.ravel()}))\n"
      ],
      "execution_count": 166,
      "outputs": [
        {
          "output_type": "stream",
          "text": [
            "   test calc  test true\n",
            "0  52.054506  52.051330\n",
            "1  57.149069  56.943635\n",
            "2  52.871358  52.772772\n",
            "3  56.011383  55.985558\n",
            "4  57.031458  57.310269\n",
            "5  55.662504  55.758903\n"
          ],
          "name": "stdout"
        }
      ]
    },
    {
      "cell_type": "code",
      "metadata": {
        "id": "y30XBpIVdhcr",
        "outputId": "7522aa42-03df-4568-f9ac-140f9f875ba8",
        "colab": {
          "base_uri": "https://localhost:8080/",
          "height": 283
        }
      },
      "source": [
        "# expressa os dois dados em figura\n",
        "fig = plt.figure()\n",
        "ax1 = fig.add_subplot(111)\n",
        "ax1.scatter(y_obs_test,y_calc_test, s=10, c='b', marker=\"s\", label='teste')\n",
        "ax1.scatter(y_obs_train,y_calc_train, s=10, c='r', marker=\"o\", label='treino')\n",
        "plt.legend(loc='upper left')\n",
        "plt.xlim([40,65])\n",
        "plt.ylim([40,65])\n",
        "plt.ylabel('EY Calc')\n",
        "plt.xlabel('EY Obs')\n",
        "plt.show()"
      ],
      "execution_count": 167,
      "outputs": [
        {
          "output_type": "display_data",
          "data": {
            "image/png": "[encoded data removed]",
            "text/plain": [
              "<Figure size 432x288 with 1 Axes>"
            ]
          },
          "metadata": {
            "tags": [],
            "needs_background": "light"
          }
        }
      ]
    },
    {
      "cell_type": "code",
      "metadata": {
        "id": "TwXdxoUeeX24",
        "outputId": "044bc83e-0432-4c74-e051-7c83a6df3db2",
        "colab": {
          "base_uri": "https://localhost:8080/"
        }
      },
      "source": [
        "mse=mean_squared_error(y_obs_test,y_calc_test)\n",
        "print(\"MSE teste=\",mse)\n",
        "R2=r2_score(y_obs_test,y_calc_test)\n",
        "print(\"R^2 teste=\",R2)"
      ],
      "execution_count": 168,
      "outputs": [
        {
          "output_type": "stream",
          "text": [
            "MSE teste= 0.02327125597962886\n",
            "R^2 teste= 0.9942314041012635\n"
          ],
          "name": "stdout"
        }
      ]
    },
    {
      "cell_type": "code",
      "metadata": {
        "id": "aKRgi8FFebYG",
        "outputId": "e0a8f404-dd00-4e01-adc1-99b95aece817",
        "colab": {
          "base_uri": "https://localhost:8080/"
        }
      },
      "source": [
        "mse=mean_squared_error(y_obs_train,y_calc_train)\n",
        "print(\"MSE treino=\",mse)\n",
        "R2=r2_score(y_obs_train,y_calc_train)\n",
        "print(\"R^2 treino=\",R2)"
      ],
      "execution_count": 169,
      "outputs": [
        {
          "output_type": "stream",
          "text": [
            "MSE treino= 0.06520315530759983\n",
            "R^2 treino= 0.9991083860197812\n"
          ],
          "name": "stdout"
        }
      ]
    }
  ]
}