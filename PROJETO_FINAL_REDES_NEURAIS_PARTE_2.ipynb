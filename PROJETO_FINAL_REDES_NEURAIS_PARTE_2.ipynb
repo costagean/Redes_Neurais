{
  "nbformat": 4,
  "nbformat_minor": 0,
  "metadata": {
    "colab": {
      "name": "Untitled8.ipynb",
      "provenance": [],
      "authorship_tag": "ABX9TyMTMsiFb1JT3Ijj1VdY/WUH",
      "include_colab_link": true
    },
    "kernelspec": {
      "name": "python3",
      "display_name": "Python 3"
    },
    "language_info": {
      "name": "python"
    }
  },
  "cells": [
    {
      "cell_type": "markdown",
      "metadata": {
        "id": "view-in-github",
        "colab_type": "text"
      },
      "source": [
        "<a href=\"https://colab.research.google.com/github/costagean/Redes_Neurais/blob/main/PROJETO_FINAL_REDES_NEURAIS_PARTE_2.ipynb\" target=\"_parent\"><img src=\"https://colab.research.google.com/assets/colab-badge.svg\" alt=\"Open In Colab\"/></a>"
      ]
    },
    {
      "cell_type": "code",
      "metadata": {
        "id": "D4zOGI6m_zA4"
      },
      "source": [
        "# Importando as bibliotecas necessárias\n",
        "from matplotlib import pyplot as plt\n",
        "from sklearn import preprocessing\n",
        "from sklearn.model_selection import train_test_split\n",
        "from sklearn.metrics import classification_report\n",
        "import numpy as np\n",
        "import pandas as pd\n",
        "import cv2\n",
        "import random\n",
        "import zipfile \n",
        "from keras.models import Sequential\n",
        "from keras.layers import Dense, Activation, Conv2D, MaxPooling2D, Flatten, Dropout, BatchNormalization\n",
        "from keras.datasets import cifar10\n"
      ],
      "execution_count": null,
      "outputs": []
    },
    {
      "cell_type": "code",
      "metadata": {
        "colab": {
          "base_uri": "https://localhost:8080/"
        },
        "id": "MrD6Nj6q_9Lu",
        "outputId": "929360cd-88e7-4d08-c260-9c4ce0414bcf"
      },
      "source": [
        "# Carregando e resumindo os datos anteriormente processados\n",
        "(X_train, Y_train), (X_test, Y_test) = cifar10.load_data()\n",
        "print('Train: X=%s, y=%s' % (X_train.shape, Y_train.shape))\n",
        "print('Test: X=%s, y=%s' % (X_test.shape, Y_test.shape))\n",
        "\n",
        "Img_Size = 32\n"
      ],
      "execution_count": null,
      "outputs": [
        {
          "output_type": "stream",
          "text": [
            "Downloading data from https://www.cs.toronto.edu/~kriz/cifar-10-python.tar.gz\n",
            "170500096/170498071 [==============================] - 4s 0us/step\n",
            "170508288/170498071 [==============================] - 4s 0us/step\n",
            "Train: X=(50000, 32, 32, 3), y=(50000, 1)\n",
            "Test: X=(10000, 32, 32, 3), y=(10000, 1)\n"
          ],
          "name": "stdout"
        }
      ]
    },
    {
      "cell_type": "code",
      "metadata": {
        "colab": {
          "base_uri": "https://localhost:8080/"
        },
        "id": "4ds33bcIAMgW",
        "outputId": "1a773e0d-da70-4a91-c2b7-6987b2f4bcdf"
      },
      "source": [
        "Y_test"
      ],
      "execution_count": null,
      "outputs": [
        {
          "output_type": "execute_result",
          "data": {
            "text/plain": [
              "array([[3],\n",
              "       [8],\n",
              "       [8],\n",
              "       ...,\n",
              "       [5],\n",
              "       [1],\n",
              "       [7]], dtype=uint8)"
            ]
          },
          "metadata": {
            "tags": []
          },
          "execution_count": 3
        }
      ]
    },
    {
      "cell_type": "code",
      "metadata": {
        "id": "R9hoAZcZATjo"
      },
      "source": [
        "Y_test = Y_test.ravel()\n",
        "Y_train = Y_train.ravel()"
      ],
      "execution_count": null,
      "outputs": []
    },
    {
      "cell_type": "code",
      "metadata": {
        "id": "suPAnPF2AWVb"
      },
      "source": [
        "# Definindo mecanismo de ajuda\n",
        "def ynindicator(Y):\n",
        "  N = len(Y)\n",
        "  K = len(set(Y))\n",
        "  I = np.zeros((N, K))\n",
        "  I[np.arange(N), Y] = 1\n",
        "  return I\n",
        "\n",
        "X_train = np.array(X_train)\n",
        "Y_train = np.array(Y_train)\n",
        "K = len(set(Y_train))\n",
        "\n",
        "X_train = X_train.reshape(-1, Img_Size, Img_Size, 3) / 255.0\n",
        "Y_train = Y_train.astype(np.int32)\n",
        "#Y_train = Y_train.reshape(1,-1)\n",
        "Y_train = ynindicator(Y_train)\n",
        "\n",
        "X_test = np.array(X_test )\n",
        "Y_test = np.array(Y_test)\n",
        "X_test = X_test.reshape(-1, Img_Size, Img_Size, 3) / 255.0\n",
        "Y_test = Y_test.astype(np.int32)\n",
        "#Y_test = Y_test.reshape(1,-1)\n",
        "Y_test = ynindicator(Y_test)\n",
        "\n",
        "# Definindo sequencia de camadas para o modelo em questão\n",
        "\n",
        "model = Sequential()\n",
        "\n",
        "\n",
        "# Rede neural do tipo CNN\n",
        "# model.add(Input(shape=(28, 28, 1)))\n",
        "model.add(Conv2D(input_shape=(Img_Size, Img_Size, 3), filters=32, kernel_size=(3, 3)))\n",
        "model.add(BatchNormalization())\n",
        "model.add(Activation('relu'))\n",
        "model.add(MaxPooling2D())\n",
        "\n",
        "model.add(Conv2D(filters=64, kernel_size=(3, 3)))\n",
        "model.add(BatchNormalization())\n",
        "model.add(Activation('relu'))\n",
        "model.add(MaxPooling2D())\n",
        "\n",
        "model.add(Conv2D(filters=128, kernel_size=(3, 3)))\n",
        "model.add(BatchNormalization())\n",
        "model.add(Activation('relu'))\n",
        "model.add(MaxPooling2D())\n",
        "\n",
        "model.add(Flatten())\n",
        "model.add(Dense(units=80))\n",
        "model.add(Activation('relu'))\n",
        "model.add(Dropout(0.2))\n",
        "model.add(Dense(units=K))\n",
        "model.add(Activation('softmax'))\n",
        "\n",
        "# As métricas, perdas e otimizadores todos foram importados da biblioiteca keras e definidos no sequenciamento a baixo:                                 \n",
        "# list of losses: https://keras.io/losses/\n",
        "# list of optimizers: https://keras.io/optimizers/\n",
        "# list of metrics: https://keras.io/metrics/\n",
        "model.compile(\n",
        "  loss='categorical_crossentropy',\n",
        "  optimizer='adam',\n",
        "  metrics=['accuracy']\n",
        ")"
      ],
      "execution_count": null,
      "outputs": []
    },
    {
      "cell_type": "code",
      "metadata": {
        "colab": {
          "base_uri": "https://localhost:8080/"
        },
        "id": "yCj7Lah_Avia",
        "outputId": "80172903-0200-4bd3-9549-9b48b7cc6e6b"
      },
      "source": [
        "print(Y_train.shape)\n",
        "print(X_train.shape)\n"
      ],
      "execution_count": null,
      "outputs": [
        {
          "output_type": "stream",
          "text": [
            "(50000, 10)\n",
            "(50000, 32, 32, 3)\n"
          ],
          "name": "stdout"
        }
      ]
    },
    {
      "cell_type": "code",
      "metadata": {
        "colab": {
          "base_uri": "https://localhost:8080/"
        },
        "id": "g62FkAHKAycb",
        "outputId": "24d1fbda-78c0-475a-df91-c5b969e83ba6"
      },
      "source": [
        "# A execução das etapas de perdas e ganhos com o FeedBack do Keras\n",
        "# gives us back a <keras.callbacks.History object at 0x112e61a90>\n",
        "r = model.fit(X_train, Y_train, epochs=15, batch_size=32)\n",
        "print(\"Returned:\", r)"
      ],
      "execution_count": null,
      "outputs": [
        {
          "output_type": "stream",
          "text": [
            "Epoch 1/15\n",
            "1563/1563 [==============================] - 106s 57ms/step - loss: 1.6090 - accuracy: 0.4272\n",
            "Epoch 2/15\n",
            "1563/1563 [==============================] - 93s 59ms/step - loss: 1.0786 - accuracy: 0.6221\n",
            "Epoch 3/15\n",
            "1563/1563 [==============================] - 90s 58ms/step - loss: 0.9167 - accuracy: 0.6790\n",
            "Epoch 4/15\n",
            "1563/1563 [==============================] - 90s 57ms/step - loss: 0.8204 - accuracy: 0.7128\n",
            "Epoch 5/15\n",
            "1563/1563 [==============================] - 91s 58ms/step - loss: 0.7359 - accuracy: 0.7427\n",
            "Epoch 6/15\n",
            "1563/1563 [==============================] - 89s 57ms/step - loss: 0.6691 - accuracy: 0.7663\n",
            "Epoch 7/15\n",
            "1563/1563 [==============================] - 89s 57ms/step - loss: 0.6220 - accuracy: 0.7812\n",
            "Epoch 8/15\n",
            "1563/1563 [==============================] - 90s 58ms/step - loss: 0.5689 - accuracy: 0.8049\n",
            "Epoch 9/15\n",
            "1563/1563 [==============================] - 89s 57ms/step - loss: 0.5132 - accuracy: 0.8198\n",
            "Epoch 10/15\n",
            "1563/1563 [==============================] - 92s 59ms/step - loss: 0.4890 - accuracy: 0.8276\n",
            "Epoch 11/15\n",
            "1563/1563 [==============================] - 90s 57ms/step - loss: 0.4486 - accuracy: 0.8435\n",
            "Epoch 12/15\n",
            "1563/1563 [==============================] - 88s 56ms/step - loss: 0.4144 - accuracy: 0.8538\n",
            "Epoch 13/15\n",
            "1563/1563 [==============================] - 89s 57ms/step - loss: 0.3840 - accuracy: 0.8651\n",
            "Epoch 14/15\n",
            "1563/1563 [==============================] - 87s 56ms/step - loss: 0.3633 - accuracy: 0.8712\n",
            "Epoch 15/15\n",
            "1563/1563 [==============================] - 88s 56ms/step - loss: 0.3503 - accuracy: 0.8739\n",
            "Returned: <keras.callbacks.History object at 0x7f00d1d7b350>\n"
          ],
          "name": "stdout"
        }
      ]
    },
    {
      "cell_type": "code",
      "metadata": {
        "colab": {
          "base_uri": "https://localhost:8080/"
        },
        "id": "QUgr15x2A5OW",
        "outputId": "a7283efe-a07e-4c87-e117-30c2243a4dc5"
      },
      "source": [
        "# visualização das variáveis-chaves acionadas acima\n",
        "# print the available keys\n",
        "# should see: dict_keys(['val_loss', 'acc', 'loss', 'val_acc'])\n",
        "print(r.history.keys())"
      ],
      "execution_count": null,
      "outputs": [
        {
          "output_type": "stream",
          "text": [
            "dict_keys(['loss', 'accuracy'])\n"
          ],
          "name": "stdout"
        }
      ]
    },
    {
      "cell_type": "code",
      "metadata": {
        "colab": {
          "base_uri": "https://localhost:8080/",
          "height": 265
        },
        "id": "qkaAVhtkA51W",
        "outputId": "2a754aaf-f760-4c0a-a4a7-89de517267d3"
      },
      "source": [
        "# plotagem dos gráficos de perda\n",
        "plt.plot(r.history['loss'], label='loss')\n",
        "#plt.plot(r.history['val_loss'], label='val_loss')\n",
        "plt.legend()\n",
        "plt.show()"
      ],
      "execution_count": null,
      "outputs": [
        {
          "output_type": "display_data",
          "data": {
            "image/png": "[encoded data removed]",
            "text/plain": [
              "<Figure size 432x288 with 1 Axes>"
            ]
          },
          "metadata": {
            "tags": [],
            "needs_background": "light"
          }
        }
      ]
    },
    {
      "cell_type": "code",
      "metadata": {
        "colab": {
          "base_uri": "https://localhost:8080/",
          "height": 265
        },
        "id": "8h5dahoUA8hU",
        "outputId": "76c6656c-86bc-4664-a8a1-93ab9984cf24"
      },
      "source": [
        "# plotagem da curva de precisão para tratamento dos dados escolhidos\n",
        "plt.plot(r.history['accuracy'], label='acc')\n",
        "#plt.plot(r.history['val_accuracy'], label='val_acc')\n",
        "plt.legend()\n",
        "plt.show()"
      ],
      "execution_count": null,
      "outputs": [
        {
          "output_type": "display_data",
          "data": {
            "image/png": "[encoded data removed]",
            "text/plain": [
              "<Figure size 432x288 with 1 Axes>"
            ]
          },
          "metadata": {
            "tags": [],
            "needs_background": "light"
          }
        }
      ]
    },
    {
      "cell_type": "code",
      "metadata": {
        "colab": {
          "base_uri": "https://localhost:8080/"
        },
        "id": "2JrBiJ_TBAr8",
        "outputId": "100fab7b-fd0a-4732-e852-f736d324d8a1"
      },
      "source": [
        "ynew = model.predict_classes(X_test)\n",
        "print(ynew)"
      ],
      "execution_count": null,
      "outputs": [
        {
          "output_type": "stream",
          "text": [
            "/usr/local/lib/python3.7/dist-packages/keras/engine/sequential.py:450: UserWarning: `model.predict_classes()` is deprecated and will be removed after 2021-01-01. Please use instead:* `np.argmax(model.predict(x), axis=-1)`,   if your model does multi-class classification   (e.g. if it uses a `softmax` last-layer activation).* `(model.predict(x) > 0.5).astype(\"int32\")`,   if your model does binary classification   (e.g. if it uses a `sigmoid` last-layer activation).\n",
            "  warnings.warn('`model.predict_classes()` is deprecated and '\n"
          ],
          "name": "stderr"
        },
        {
          "output_type": "stream",
          "text": [
            "[3 8 8 ... 5 1 7]\n"
          ],
          "name": "stdout"
        }
      ]
    },
    {
      "cell_type": "code",
      "metadata": {
        "id": "kOIB4B9RBDSV"
      },
      "source": [
        "N_test = len(ynew)"
      ],
      "execution_count": null,
      "outputs": []
    },
    {
      "cell_type": "code",
      "metadata": {
        "id": "iswffipqBD2p"
      },
      "source": [
        "y_resp = (model.predict(X_test) > 0.5).astype(\"int32\")\n",
        "#print(y_resp)"
      ],
      "execution_count": null,
      "outputs": []
    },
    {
      "cell_type": "code",
      "metadata": {
        "id": "tgfzIJlQBF-V"
      },
      "source": [
        "# (model.predict(X_test)[0] > 0.5).astype(\"int32\")"
      ],
      "execution_count": null,
      "outputs": []
    },
    {
      "cell_type": "code",
      "metadata": {
        "colab": {
          "base_uri": "https://localhost:8080/"
        },
        "id": "LrK33sQDBIfw",
        "outputId": "caf1da2e-1af4-4a2d-d6b4-9e9cecab6783"
      },
      "source": [
        "y_class = np.zeros(N_test,dtype=int)\n",
        "for k in range(N_test):\n",
        "  for kk in range(K):\n",
        "    if(Y_test[k,kk] == 1):\n",
        "      y_class[k] = kk\n",
        "print(y_class)\n",
        "y_true = y_class.copy()"
      ],
      "execution_count": null,
      "outputs": [
        {
          "output_type": "stream",
          "text": [
            "[3 8 8 ... 5 1 7]\n"
          ],
          "name": "stdout"
        }
      ]
    },
    {
      "cell_type": "code",
      "metadata": {
        "id": "cPzaSloPBLG4"
      },
      "source": [
        "#Y_test[-2,:]"
      ],
      "execution_count": null,
      "outputs": []
    },
    {
      "cell_type": "code",
      "metadata": {
        "id": "L3FOadraBNL8"
      },
      "source": [
        "y_class = np.zeros(N_test,dtype=int)\n",
        "for k in range(N_test):\n",
        "  for kk in range(K):\n",
        "    if(y_resp[k,kk] == 1):\n",
        "      y_class[k] = kk\n",
        "y_pred = y_class.copy()"
      ],
      "execution_count": null,
      "outputs": []
    },
    {
      "cell_type": "code",
      "metadata": {
        "colab": {
          "base_uri": "https://localhost:8080/"
        },
        "id": "8oLDjAUTBPBB",
        "outputId": "8ab8fef6-82b7-497c-e9a3-01a53c9a875a"
      },
      "source": [
        "# variáveis alvo = ['group1.car', 'group2.car', 'group3.car', 'group4.car', 'group6.car', 'group7.car','group9.car']\n",
        "# print(classification_report(y_true, y_pred, target_names=target_names))\n",
        "print(classification_report(y_true, y_pred))"
      ],
      "execution_count": null,
      "outputs": [
        {
          "output_type": "stream",
          "text": [
            "              precision    recall  f1-score   support\n",
            "\n",
            "           0       0.38      0.73      0.50      1000\n",
            "           1       0.92      0.80      0.85      1000\n",
            "           2       0.68      0.51      0.58      1000\n",
            "           3       0.69      0.37      0.49      1000\n",
            "           4       0.61      0.68      0.64      1000\n",
            "           5       0.83      0.36      0.50      1000\n",
            "           6       0.59      0.90      0.71      1000\n",
            "           7       0.78      0.74      0.76      1000\n",
            "           8       0.77      0.85      0.81      1000\n",
            "           9       0.90      0.73      0.80      1000\n",
            "\n",
            "    accuracy                           0.67     10000\n",
            "   macro avg       0.72      0.67      0.66     10000\n",
            "weighted avg       0.72      0.67      0.66     10000\n",
            "\n"
          ],
          "name": "stdout"
        }
      ]
    }
  ]
}