{
  "nbformat": 4,
  "nbformat_minor": 0,
  "metadata": {
    "colab": {
      "name": "Untitled8.ipynb",
      "provenance": [],
      "authorship_tag": "ABX9TyPxyB5cXjmI6tB7SQ6PR3I5",
      "include_colab_link": true
    },
    "kernelspec": {
      "name": "python3",
      "display_name": "Python 3"
    },
    "language_info": {
      "name": "python"
    }
  },
  "cells": [
    {
      "cell_type": "markdown",
      "metadata": {
        "id": "view-in-github",
        "colab_type": "text"
      },
      "source": [
        "<a href=\"https://colab.research.google.com/github/costagean/Redes_Neurais/blob/main/PROJETO_FINAL_REDES_NEURAIS_PARTE_2.ipynb\" target=\"_parent\"><img src=\"https://colab.research.google.com/assets/colab-badge.svg\" alt=\"Open In Colab\"/></a>"
      ]
    },
    {
      "cell_type": "code",
      "metadata": {
        "id": "D4zOGI6m_zA4"
      },
      "source": [
        "# Importando as bibliotecas necessárias\n",
        "from matplotlib import pyplot as plt\n",
        "from sklearn import preprocessing\n",
        "from sklearn.model_selection import train_test_split\n",
        "from sklearn.metrics import classification_report\n",
        "import numpy as np\n",
        "import pandas as pd\n",
        "import cv2\n",
        "import random\n",
        "import zipfile \n",
        "from keras.models import Sequential\n",
        "from keras.layers import Dense, Activation, Conv2D, MaxPooling2D, Flatten, Dropout, BatchNormalization\n",
        "from keras.datasets import cifar10\n"
      ],
      "execution_count": 19,
      "outputs": []
    },
    {
      "cell_type": "code",
      "metadata": {
        "colab": {
          "base_uri": "https://localhost:8080/"
        },
        "id": "MrD6Nj6q_9Lu",
        "outputId": "119a8938-8273-430d-c284-5dc4ea4d2ab2"
      },
      "source": [
        "# Carregando e resumindo os datos anteriormente processados\n",
        "(X_train, Y_train), (X_test, Y_test) = cifar10.load_data()\n",
        "print('Train: X=%s, y=%s' % (X_train.shape, Y_train.shape))\n",
        "print('Test: X=%s, y=%s' % (X_test.shape, Y_test.shape))\n",
        "\n",
        "Img_Size = 32\n"
      ],
      "execution_count": 20,
      "outputs": [
        {
          "output_type": "stream",
          "text": [
            "Train: X=(50000, 32, 32, 3), y=(50000, 1)\n",
            "Test: X=(10000, 32, 32, 3), y=(10000, 1)\n"
          ],
          "name": "stdout"
        }
      ]
    },
    {
      "cell_type": "code",
      "metadata": {
        "colab": {
          "base_uri": "https://localhost:8080/"
        },
        "id": "4ds33bcIAMgW",
        "outputId": "8baaf92b-7c4a-4ca9-fe79-13b0ae14a632"
      },
      "source": [
        "Y_test"
      ],
      "execution_count": 21,
      "outputs": [
        {
          "output_type": "execute_result",
          "data": {
            "text/plain": [
              "array([[3],\n",
              "       [8],\n",
              "       [8],\n",
              "       ...,\n",
              "       [5],\n",
              "       [1],\n",
              "       [7]], dtype=uint8)"
            ]
          },
          "metadata": {
            "tags": []
          },
          "execution_count": 21
        }
      ]
    },
    {
      "cell_type": "code",
      "metadata": {
        "id": "R9hoAZcZATjo"
      },
      "source": [
        "Y_test = Y_test.ravel()\n",
        "Y_train = Y_train.ravel()"
      ],
      "execution_count": 22,
      "outputs": []
    },
    {
      "cell_type": "code",
      "metadata": {
        "id": "suPAnPF2AWVb"
      },
      "source": [
        "# Definindo mecanismo de ajuda\n",
        "def ynindicator(Y):\n",
        "  N = len(Y)\n",
        "  K = len(set(Y))\n",
        "  I = np.zeros((N, K))\n",
        "  I[np.arange(N), Y] = 1\n",
        "  return I\n",
        "\n",
        "X_train = np.array(X_train)\n",
        "Y_train = np.array(Y_train)\n",
        "K = len(set(Y_train))\n",
        "\n",
        "X_train = X_train.reshape(-1, Img_Size, Img_Size, 3) / 255.0\n",
        "Y_train = Y_train.astype(np.int32)\n",
        "#Y_train = Y_train.reshape(1,-1)\n",
        "Y_train = ynindicator(Y_train)\n",
        "\n",
        "X_test = np.array(X_test )\n",
        "Y_test = np.array(Y_test)\n",
        "X_test = X_test.reshape(-1, Img_Size, Img_Size, 3) / 255.0\n",
        "Y_test = Y_test.astype(np.int32)\n",
        "#Y_test = Y_test.reshape(1,-1)\n",
        "Y_test = ynindicator(Y_test)\n",
        "\n",
        "# Definindo sequencia de camadas para o modelo em questão\n",
        "\n",
        "model = Sequential()\n",
        "\n",
        "\n",
        "# Rede neural do tipo CNN\n",
        "# model.add(Input(shape=(28, 28, 1)))\n",
        "model.add(Conv2D(input_shape=(Img_Size, Img_Size, 3), filters=32, kernel_size=(3, 3)))\n",
        "model.add(BatchNormalization())\n",
        "model.add(Activation('relu'))\n",
        "model.add(MaxPooling2D())\n",
        "\n",
        "model.add(Conv2D(filters=64, kernel_size=(3, 3)))\n",
        "model.add(BatchNormalization())\n",
        "model.add(Activation('relu'))\n",
        "model.add(MaxPooling2D())\n",
        "\n",
        "model.add(Conv2D(filters=128, kernel_size=(3, 3)))\n",
        "model.add(BatchNormalization())\n",
        "model.add(Activation('relu'))\n",
        "model.add(MaxPooling2D())\n",
        "\n",
        "model.add(Flatten())\n",
        "model.add(Dense(units=100))\n",
        "model.add(Activation('relu'))\n",
        "model.add(Dropout(0.2))\n",
        "model.add(Dense(units=K))\n",
        "model.add(Activation('softmax'))\n",
        "\n",
        "# As métricas, perdas e otimizadores todos foram importados da biblioiteca keras e definidos no sequenciamento a baixo:                                 \n",
        "# list of losses: https://keras.io/losses/\n",
        "# list of optimizers: https://keras.io/optimizers/\n",
        "# list of metrics: https://keras.io/metrics/\n",
        "model.compile(\n",
        "  loss='categorical_crossentropy',\n",
        "  optimizer='adam',\n",
        "  metrics=['accuracy']\n",
        ")"
      ],
      "execution_count": 23,
      "outputs": []
    },
    {
      "cell_type": "code",
      "metadata": {
        "colab": {
          "base_uri": "https://localhost:8080/"
        },
        "id": "yCj7Lah_Avia",
        "outputId": "97af79e4-5f83-4de7-8c27-721f613091aa"
      },
      "source": [
        "print(Y_train.shape)\n",
        "print(X_train.shape)\n"
      ],
      "execution_count": 24,
      "outputs": [
        {
          "output_type": "stream",
          "text": [
            "(50000, 10)\n",
            "(50000, 32, 32, 3)\n"
          ],
          "name": "stdout"
        }
      ]
    },
    {
      "cell_type": "code",
      "metadata": {
        "colab": {
          "base_uri": "https://localhost:8080/"
        },
        "id": "g62FkAHKAycb",
        "outputId": "f8c59e04-3083-478f-89dd-bd1d84ff2c1a"
      },
      "source": [
        "# A execução das etapas de perdas e ganhos com o FeedBack do Keras\n",
        "# gives us back a <keras.callbacks.History object at 0x112e61a90>\n",
        "r = model.fit(X_train, Y_train, epochs=10, batch_size=32)\n",
        "print(\"Returned:\", r)"
      ],
      "execution_count": null,
      "outputs": [
        {
          "output_type": "stream",
          "text": [
            "Epoch 1/10\n",
            " 178/1563 [==>...........................] - ETA: 1:25 - loss: 0.3929 - accuracy: 0.8611"
          ],
          "name": "stdout"
        }
      ]
    },
    {
      "cell_type": "code",
      "metadata": {
        "colab": {
          "base_uri": "https://localhost:8080/"
        },
        "id": "QUgr15x2A5OW",
        "outputId": "968dd851-1b2b-441f-cec2-64eed689d763"
      },
      "source": [
        "# visualização das variáveis-chaves acionadas acima\n",
        "# print the available keys\n",
        "# should see: dict_keys(['val_loss', 'acc', 'loss', 'val_acc'])\n",
        "print(r.history.keys())"
      ],
      "execution_count": 26,
      "outputs": [
        {
          "output_type": "stream",
          "text": [
            "dict_keys(['loss', 'accuracy'])\n"
          ],
          "name": "stdout"
        }
      ]
    },
    {
      "cell_type": "code",
      "metadata": {
        "colab": {
          "base_uri": "https://localhost:8080/",
          "height": 265
        },
        "id": "qkaAVhtkA51W",
        "outputId": "c4372c22-f656-46f8-e776-83f19d5f8002"
      },
      "source": [
        "# plotagem dos gráficos de perda\n",
        "plt.plot(r.history['loss'], label='loss')\n",
        "#plt.plot(r.history['val_loss'], label='val_loss')\n",
        "plt.legend()\n",
        "plt.show()"
      ],
      "execution_count": 27,
      "outputs": [
        {
          "output_type": "display_data",
          "data": {
            "image/png": "[encoded data removed]",
            "text/plain": [
              "<Figure size 432x288 with 1 Axes>"
            ]
          },
          "metadata": {
            "tags": [],
            "needs_background": "light"
          }
        }
      ]
    },
    {
      "cell_type": "code",
      "metadata": {
        "colab": {
          "base_uri": "https://localhost:8080/",
          "height": 268
        },
        "id": "8h5dahoUA8hU",
        "outputId": "7fe16975-6c63-48be-e232-f0ea73ced756"
      },
      "source": [
        "# plotagem da curva de precisão para tratamento dos dados escolhidos\n",
        "plt.plot(r.history['accuracy'], label='acc')\n",
        "#plt.plot(r.history['val_accuracy'], label='val_acc')\n",
        "plt.legend()\n",
        "plt.show()"
      ],
      "execution_count": 28,
      "outputs": [
        {
          "output_type": "display_data",
          "data": {
            "image/png": "[encoded data removed]",
            "text/plain": [
              "<Figure size 432x288 with 1 Axes>"
            ]
          },
          "metadata": {
            "tags": [],
            "needs_background": "light"
          }
        }
      ]
    },
    {
      "cell_type": "code",
      "metadata": {
        "colab": {
          "base_uri": "https://localhost:8080/"
        },
        "id": "2JrBiJ_TBAr8",
        "outputId": "78a193e7-25ba-4ff4-ceea-6b636fd91d82"
      },
      "source": [
        "ynew = model.predict_classes(X_test)\n",
        "print(ynew)"
      ],
      "execution_count": 29,
      "outputs": [
        {
          "output_type": "stream",
          "text": [
            "/usr/local/lib/python3.7/dist-packages/keras/engine/sequential.py:450: UserWarning: `model.predict_classes()` is deprecated and will be removed after 2021-01-01. Please use instead:* `np.argmax(model.predict(x), axis=-1)`,   if your model does multi-class classification   (e.g. if it uses a `softmax` last-layer activation).* `(model.predict(x) > 0.5).astype(\"int32\")`,   if your model does binary classification   (e.g. if it uses a `sigmoid` last-layer activation).\n",
            "  warnings.warn('`model.predict_classes()` is deprecated and '\n"
          ],
          "name": "stderr"
        },
        {
          "output_type": "stream",
          "text": [
            "[5 8 8 ... 5 4 7]\n"
          ],
          "name": "stdout"
        }
      ]
    },
    {
      "cell_type": "code",
      "metadata": {
        "id": "kOIB4B9RBDSV"
      },
      "source": [
        "N_test = len(ynew)"
      ],
      "execution_count": 30,
      "outputs": []
    },
    {
      "cell_type": "code",
      "metadata": {
        "id": "iswffipqBD2p"
      },
      "source": [
        "y_resp = (model.predict(X_test) > 0.5).astype(\"int32\")\n",
        "#print(y_resp)"
      ],
      "execution_count": 31,
      "outputs": []
    },
    {
      "cell_type": "code",
      "metadata": {
        "id": "tgfzIJlQBF-V"
      },
      "source": [
        "# (model.predict(X_test)[0] > 0.5).astype(\"int32\")"
      ],
      "execution_count": 32,
      "outputs": []
    },
    {
      "cell_type": "code",
      "metadata": {
        "colab": {
          "base_uri": "https://localhost:8080/"
        },
        "id": "LrK33sQDBIfw",
        "outputId": "a980bea0-f2c6-4aa6-d011-22fecd8adcff"
      },
      "source": [
        "y_class = np.zeros(N_test,dtype=int)\n",
        "for k in range(N_test):\n",
        "  for kk in range(K):\n",
        "    if(Y_test[k,kk] == 1):\n",
        "      y_class[k] = kk\n",
        "print(y_class)\n",
        "y_true = y_class.copy()"
      ],
      "execution_count": 33,
      "outputs": [
        {
          "output_type": "stream",
          "text": [
            "[3 8 8 ... 5 1 7]\n"
          ],
          "name": "stdout"
        }
      ]
    },
    {
      "cell_type": "code",
      "metadata": {
        "id": "cPzaSloPBLG4"
      },
      "source": [
        "#Y_test[-2,:]"
      ],
      "execution_count": 34,
      "outputs": []
    },
    {
      "cell_type": "code",
      "metadata": {
        "id": "L3FOadraBNL8"
      },
      "source": [
        "y_class = np.zeros(N_test,dtype=int)\n",
        "for k in range(N_test):\n",
        "  for kk in range(K):\n",
        "    if(y_resp[k,kk] == 1):\n",
        "      y_class[k] = kk\n",
        "y_pred = y_class.copy()"
      ],
      "execution_count": 35,
      "outputs": []
    },
    {
      "cell_type": "code",
      "metadata": {
        "colab": {
          "base_uri": "https://localhost:8080/"
        },
        "id": "8oLDjAUTBPBB",
        "outputId": "46ce2952-d42b-4f71-b7e8-56958af9dc87"
      },
      "source": [
        "# variáveis alvo = ['group1.car', 'group2.car', 'group3.car', 'group4.car', 'group6.car', 'group7.car','group9.car']\n",
        "# print(classification_report(y_true, y_pred, target_names=target_names))\n",
        "print(classification_report(y_true, y_pred))"
      ],
      "execution_count": 36,
      "outputs": [
        {
          "output_type": "stream",
          "text": [
            "              precision    recall  f1-score   support\n",
            "\n",
            "           0       0.38      0.78      0.51      1000\n",
            "           1       0.94      0.77      0.85      1000\n",
            "           2       0.85      0.45      0.59      1000\n",
            "           3       0.88      0.21      0.34      1000\n",
            "           4       0.50      0.86      0.63      1000\n",
            "           5       0.75      0.57      0.65      1000\n",
            "           6       0.73      0.86      0.79      1000\n",
            "           7       0.86      0.71      0.78      1000\n",
            "           8       0.87      0.81      0.84      1000\n",
            "           9       0.86      0.82      0.84      1000\n",
            "\n",
            "    accuracy                           0.68     10000\n",
            "   macro avg       0.76      0.68      0.68     10000\n",
            "weighted avg       0.76      0.68      0.68     10000\n",
            "\n"
          ],
          "name": "stdout"
        }
      ]
    }
  ]
}